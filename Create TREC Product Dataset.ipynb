{
 "cells": [
  {
   "cell_type": "code",
   "execution_count": 48,
   "id": "8a743c73",
   "metadata": {},
   "outputs": [],
   "source": [
    "import json\n",
    "import requests"
   ]
  },
  {
   "cell_type": "code",
   "execution_count": 84,
   "id": "3b2b704d",
   "metadata": {},
   "outputs": [],
   "source": [
    "id2imgurl = {}\n",
    "asin2trecid = {}\n",
    "trecid2asin = {}\n",
    "doc_id = 0\n",
    "collection = {}\n",
    "with open('esci.json','r') as f:\n",
    "    for l in f:\n",
    "        j = json.loads(l)\n",
    "        trecid2asin [doc_id] = j['asin']\n",
    "        asin2trecid[j['asin']] = doc_id\n",
    "        try:\n",
    "            id2imgurl[doc_id] = j['image']\n",
    "        except:\n",
    "            pass\n",
    "        j['doc_id'] = doc_id\n",
    "        collection[doc_id] = j\n",
    "        if 'description' not in collection[doc_id]:\n",
    "            collection[doc_id]['description'] = ''\n",
    "        if 'title' not in collection[doc_id]:\n",
    "            collection[doc_id]['title'] = ''\n",
    "        collection[doc_id]['docid'] = collection[doc_id]['doc_id']\n",
    "        collection[doc_id]['text'] = collection[doc_id]['description']\n",
    "        doc_id += 1"
   ]
  },
  {
   "cell_type": "code",
   "execution_count": 85,
   "id": "0a0c8496",
   "metadata": {},
   "outputs": [
    {
     "data": {
      "text/plain": [
       "{'type': 'product',\n",
       " 'locale': 'es',\n",
       " 'asin': 'B06XXK1JQN',\n",
       " 'title': 'Estores Basic- Enrollable Traslúcido , Crudo, 150x250 cm',\n",
       " 'stars': '3,9 de 5 estrellas',\n",
       " 'ratings': '90 valoraciones',\n",
       " 'category': ['Hogar y cocina',\n",
       "  'Decoración del hogar',\n",
       "  'Decoración de ventanas',\n",
       "  'Persianas',\n",
       "  'Persianas enrollables y estores'],\n",
       " 'attrs': {'Número de productos': '1',\n",
       "  'Material': 'Textura',\n",
       "  'Función especial': 'sin cuerda',\n",
       "  'Marca': 'Estores Basic',\n",
       "  'Color': 'Crudo',\n",
       "  'Tamaño': '150x6x250 cm',\n",
       "  'Peso del producto': '2.76 Libras',\n",
       "  'Tipo de montaje': 'Montaje interior'},\n",
       " 'bullets': ['Estor enrollable Traslúcido con contrapeso de PVC, oculto',\n",
       "  'Mecanismo de accionamiento de cadeneta',\n",
       "  'Soportes metálicos con embellecedores para instalación a techo o pared',\n",
       "  'Limpieza con un paño ligeramente húmedo',\n",
       "  'Dimensiones del producto \\u200f : \\u200e 150 x 6 x 250 cm; 1.25 kilogramos',\n",
       "  'Producto en Amazon.es desde \\u200f : \\u200e 28 marzo 2017',\n",
       "  'Fabricante \\u200f : \\u200e NAUMOIA S.L.',\n",
       "  'ASIN \\u200f : \\u200e B06XXK1JQN',\n",
       "  'Número de modelo del producto \\u200f : \\u200e 11042',\n",
       "  'Clasificación en los más vendidos de Amazon: nº415,582 en Hogar y cocina ( Ver el Top 100 en Hogar y cocina ) nº814 en Persianas enrollables y estores',\n",
       "  'nº814 en Persianas enrollables y estores',\n",
       "  'Opiniones de los clientes: 3,9 de 5 estrellas 90 valoraciones'],\n",
       " 'description': 'Descripción del producto Descripción del producto Permite el paso de la luz de forma tamizada. Aporta intimidad. Soportes metálicos con embellecedores para instalación a techo o pared. Mecanismo de accionamiento de cadeneta; Limpieza con un paño ligeramente húmedo. Contenido de la caja Estor enrollable Traslúcido. Incluye soportes y accesorios para instalación a techo o pared. Descripción del producto Descripción del producto Permite el paso de la luz de forma tamizada. Aporta intimidad. Soportes metálicos con embellecedores para instalación a techo o pared. Mecanismo de accionamiento de cadeneta; Limpieza con un paño ligeramente húmedo. Contenido de la caja Estor enrollable Traslúcido. Incluye soportes y accesorios para instalación a techo o pared.',\n",
       " 'info': {},\n",
       " 'reviews': [{'stars': '4,0 de 5 estrellas',\n",
       "   'title': 'ESTORES FANTASTICOS',\n",
       "   'date': 'Revisado en España 🇪🇸 el 17 de febrero de 2018',\n",
       "   'text': 'La calidad no está mal y no tiene nada que envidiar a otros que venden en los centros comerciales típicos (LM, BP, AK, etc), y éstos son mas económicos aunque sin tanta carta de colores. El envio fue muy rápido. Muy recomendable'},\n",
       "  {'stars': '4,0 de 5 estrellas',\n",
       "   'title': 'Calidad precio si no se usa mucho , bueno',\n",
       "   'date': 'Revisado en España 🇪🇸 el 18 de septiembre de 2018',\n",
       "   'text': 'Precio bien Montaje bien Los bordes se deshielan si no lo enrolla con mucho cuidado porque tienden a ir hacia un lado y se salen del rodillo'},\n",
       "  {'stars': '3,0 de 5 estrellas',\n",
       "   'title': 'Cumple función básica',\n",
       "   'date': 'Revisado en España 🇪🇸 el 21 de septiembre de 2019',\n",
       "   'text': 'Calidad no es muy buena, para un apaño, sencillo está bien.'},\n",
       "  {'stars': '4,0 de 5 estrellas',\n",
       "   'title': 'Se deshilacha',\n",
       "   'date': 'Revisado en España 🇪🇸 el 25 de agosto de 2019',\n",
       "   'text': 'Se deshilacha'},\n",
       "  {'stars': '3,0 de 5 estrellas',\n",
       "   'title': 'Buen precio',\n",
       "   'date': 'Revisado en España 🇪🇸 el 3 de enero de 2019',\n",
       "   'text': 'El material es un poco tipo papel... Pero por su precio, y toda la gama de colores que hay, merece la pena...'},\n",
       "  {'stars': '4,0 de 5 estrellas',\n",
       "   'title': 'Esta bien',\n",
       "   'date': 'Revisado en España 🇪🇸 el 16 de junio de 2019',\n",
       "   'text': 'Todo correcto'},\n",
       "  {'stars': '4,0 de 5 estrellas',\n",
       "   'title': 'Por el precio, bien',\n",
       "   'date': 'Revisado en España 🇪🇸 el 29 de noviembre de 2017',\n",
       "   'text': 'Está bien por el precio, pero al tacto me parece un poco áspero. Si costara lo mismo, lo volvería a comprar.'},\n",
       "  {'stars': '4,0 de 5 estrellas',\n",
       "   'title': 'Está bien',\n",
       "   'date': 'Revisado en España 🇪🇸 el 14 de septiembre de 2017',\n",
       "   'text': 'Cumple su función y el color es idéntico. Lo único que su calidad de plástico no es alta, pero cumple su función'},\n",
       "  {'stars': '4,0 de 5 estrellas',\n",
       "   'title': 'Grezze ma fanno il suo lavoro',\n",
       "   'date': 'Revisado en Italia 🇮🇹 el 7 de abril de 2018',\n",
       "   'text': 'Tende veramente grezze, sono come descritte però mancano totalmente di un minimo di rifinitura, sui bordi sono sfilacciate e bisogna tagliare i fili sennò si impigliano. Il cordino è troppo corto, troppo per una tenda di 250 cm! Quando la di avvolge bisogna far attenzione a non farla sovrapporre! Tutto sommato per il prezzo pagato va bene. Grazie Amazon (Prime a vita)'}],\n",
       " 'price': '',\n",
       " 'formats': {},\n",
       " 'template': 'furniture',\n",
       " 'image': 'https://m.media-amazon.com/images/I/815fXDqFFQL.__AC_SX300_SY300_QL70_ML2_.jpg',\n",
       " 'doc_id': 0,\n",
       " 'docid': 0,\n",
       " 'text': 'Descripción del producto Descripción del producto Permite el paso de la luz de forma tamizada. Aporta intimidad. Soportes metálicos con embellecedores para instalación a techo o pared. Mecanismo de accionamiento de cadeneta; Limpieza con un paño ligeramente húmedo. Contenido de la caja Estor enrollable Traslúcido. Incluye soportes y accesorios para instalación a techo o pared. Descripción del producto Descripción del producto Permite el paso de la luz de forma tamizada. Aporta intimidad. Soportes metálicos con embellecedores para instalación a techo o pared. Mecanismo de accionamiento de cadeneta; Limpieza con un paño ligeramente húmedo. Contenido de la caja Estor enrollable Traslúcido. Incluye soportes y accesorios para instalación a techo o pared.'}"
      ]
     },
     "execution_count": 85,
     "metadata": {},
     "output_type": "execute_result"
    }
   ],
   "source": [
    "collection[0]"
   ]
  },
  {
   "cell_type": "code",
   "execution_count": 86,
   "id": "f61fec4c",
   "metadata": {},
   "outputs": [
    {
     "name": "stdout",
     "output_type": "stream",
     "text": [
      "There are 1661907 documents in the collection\n",
      "There are 1480714 img urls in the collection\n"
     ]
    }
   ],
   "source": [
    "print(\"There are {} documents in the collection\".format(doc_id -1))\n",
    "print(\"There are {} img urls in the collection\".format(len(id2imgurl)))"
   ]
  },
  {
   "cell_type": "code",
   "execution_count": 87,
   "id": "76ac1581",
   "metadata": {},
   "outputs": [],
   "source": [
    "with open('collection-imgs.json','w') as w:\n",
    "    for i in id2imgurl:\n",
    "        j = {'doc_id': i, 'image_url':id2imgurl[i]}\n",
    "        w.write('{}\\n'.format(json.dumps(j)))"
   ]
  },
  {
   "cell_type": "code",
   "execution_count": 88,
   "id": "35ad9bd2",
   "metadata": {},
   "outputs": [
    {
     "data": {
      "text/plain": [
       "0"
      ]
     },
     "execution_count": 88,
     "metadata": {},
     "output_type": "execute_result"
    }
   ],
   "source": [
    "asin2trecid[collection[0]['asin']]"
   ]
  },
  {
   "cell_type": "code",
   "execution_count": 89,
   "id": "a9bd2116",
   "metadata": {},
   "outputs": [
    {
     "data": {
      "text/plain": [
       "{'type': 'product',\n",
       " 'locale': 'us',\n",
       " 'asin': 'B002VUAM46',\n",
       " 'title': 'Degree Men Antiperspirant Deodorant Adventure Antiperspirant For Men With MotionSense Technology, 2.7 Ounce (Pack of 4)',\n",
       " 'stars': '4.7 out of 5 stars',\n",
       " 'ratings': '2,256 ratings',\n",
       " 'category': ['Beauty & Personal Care',\n",
       "  'Personal Care',\n",
       "  'Deodorants & Antiperspirants',\n",
       "  'Antiperspirants'],\n",
       " 'attrs': {'Material Type Free': 'ERROR: #N/A',\n",
       "  'Item Form': 'Sticks',\n",
       "  'Brand': 'DEGREE',\n",
       "  'Item Volume': '2.7 Fluid Ounces',\n",
       "  'Scent': 'Woodsy'},\n",
       " 'bullets': ['We are upgrading! For a limited time, you may receive our old 48-hour Antiperspirant Deodorant while all our new 72-hour products make it to stores. Detailed changes in product description',\n",
       "  'MOTIONSENSE TECHNOLOGY: This clinically proven antiperspirant provides a unique motion-activated, odor-control technology with 2x stronger sweat protection than regular antiperspirants',\n",
       "  'READY FOR WHAT’S NEXT: Take on the day with Degree Men Adventure Antiperspirant Deodorant stick. Simply twist, glide, and move',\n",
       "  'UNSTOPPABLE FRESHNESS: This antiperspirant for men features a rugged fragrance that blends clean citrus, energizing fresh pepper and long-lasting notes of woods and musk',\n",
       "  'RECYCLE WITH DEGREE: As well as increasing our use of reusable materials, we’re making it easier for you to recycle our antiperspirant and dry spray packaging',\n",
       "  'Is Discontinued By Manufacturer \\u200f : \\u200e No',\n",
       "  'Product Dimensions \\u200f : \\u200e 6 x 5 x 4 inches; 5.33 Ounces',\n",
       "  'Item model number \\u200f : \\u200e 10079400483994',\n",
       "  'Manufacturer \\u200f : \\u200e Unilever',\n",
       "  'ASIN \\u200f : \\u200e B002VUAM46',\n",
       "  'Country of Origin \\u200f : \\u200e USA',\n",
       "  'Best Sellers Rank: #12,765 in Health & Household ( See Top 100 in Health & Household ) #21 in Antiperspirants',\n",
       "  '#21 in Antiperspirants',\n",
       "  'Customer Reviews: 4.7 out of 5 stars 2,256 ratings'],\n",
       " 'description': \"Product Description Degree is upgrading to our best formula yet. Our new and improved formulation gives you 72 hours of nonstop sweat and odor protection. You will still find all the same fragrances you know and love, but now with our new and improved long lasting protection! For a limited time, you may still receive our old 48-hour formulation while all our new 72-hour products make their way to a store near you. Freshen up, power up and move with confidence with Degree Men Adventure Antiperspirant Deodorant. Supercharged with 72-hour odor protection, this antiperspirant deodorant for men works as hard as you do and provides superior motion-activated protection from sweat and odor. However you move, this antiperspirant deodorant delivers unstoppable freshness for that shower-clean feeling all day long. With a rugged fragrance that blends clean citrus, energizing fresh pepper and long-lasting notes of woods and musk and non-stop odor and sweat protection, this Degree Men antiperspirant deodorant for men won’t let you down – so you can stay fresh, for all the ways you move. Product Description Degree is upgrading to our best formula yet. Our new and improved formulation gives you 72 hours of nonstop sweat and odor protection. You will still find all the same fragrances you know and love, but now with our new and improved long lasting protection! For a limited time, you may still receive our old 48-hour formulation while all our new 72-hour products make their way to a store near you. Freshen up, power up and move with confidence with Degree Men Adventure Antiperspirant Deodorant. Supercharged with 72-hour odor protection, this antiperspirant deodorant for men works as hard as you do and provides superior motion-activated protection from sweat and odor. However you move, this antiperspirant deodorant delivers unstoppable freshness for that shower-clean feeling all day long. With a rugged fragrance that blends clean citrus, energizing fresh pepper and long-lasting notes of woods and musk and non-stop odor and sweat protection, this Degree Men antiperspirant deodorant for men won’t let you down – so you can stay fresh, for all the ways you move.From the manufacturer Degree Men Adventure Antiperspirant Deodorant has a rugged fragrance that blends clean citrus, energizing fresh pepper and long-lasting notes of wood and musk. Its powerful MotionSense technology releases more fragrance as you move, so that you're ready for the most challenging adventure. 72-HOUR NONSTOP SWEAT PROTECTION This antiperspirant stick delivers unstoppable sweat and odor protection that helps keep you moving with confidence. MOTIONSENSE TECHNOLOGY Degree's breakthrough MotionSense technology reacts directly to movement to keep you feeling fresh and protected. UNSTOPPABLE CONFIDENCE Degree doesn't stop working, no matter how much you move. MOVING TOGETHER TOWARD REUSE At Degree, we're committed to creating the most reused and inclusive products possible. As well as increasing our use of reusable materials, we’re making it easier for you to recycle our antiperspirant and dry spray packaging. Read more Degree Men UltraClear DeodorantStick 72 hour Sweat and odor Black+White, 2.7 oz Degree Men Advanced Cool Rush Antiperspirant Deodorant Dry Spray, 3.8 oz Degree Men Extreme Blast Antiperspirant Deodorant Stick, 2.7 oz Main Benefit This antiperspirant for men protects against white marks and yellow stains. Active lives need Degree Men UltraClear Black + White Antiperspirant Deodorant, formulated to help you move with freedom, and feel fresh and confident. Get the crisp, arctic freshness of our fan-favorite Cool Rush deodorant in a convenient dry spray featuring MotionSense technology that works with your body. Degree Men Extreme Blast Antiperspirant Deodorant provides 48-hour sweat and odor protection that won't let you down. \",\n",
       " 'info': {},\n",
       " 'reviews': [{'stars': '4.0 out of 5 stars',\n",
       "   'title': 'Actually is effective',\n",
       "   'date': 'Reviewed in the United States on December 27, 2022',\n",
       "   'text': 'I use it every two to three days, and stay oder free'},\n",
       "  {'stars': '5.0 out of 5 stars',\n",
       "   'title': 'Excellent',\n",
       "   'date': 'Reviewed in the United States on December 12, 2022',\n",
       "   'text': 'Works for me'},\n",
       "  {'stars': '4.0 out of 5 stars',\n",
       "   'title': 'Good stuff',\n",
       "   'date': 'Reviewed in the United States on November 19, 2022',\n",
       "   'text': 'It deodorizes and anti-perspirizes. Like the smell, miss the gel.'},\n",
       "  {'stars': '5.0 out of 5 stars',\n",
       "   'title': 'Excelente',\n",
       "   'date': 'Reviewed in the United States on November 16, 2022',\n",
       "   'text': 'Muy buen precio. Funciona como se esperaba . Envío 📦 excelente El vendedor cumplió con una descripción precisa. Muy recomendable'},\n",
       "  {'stars': '5.0 out of 5 stars',\n",
       "   'title': 'Works great long lasting',\n",
       "   'date': 'Reviewed in the United States on October 28, 2022',\n",
       "   'text': 'Works great long lasting. I would buy this product again .'},\n",
       "  {'stars': '5.0 out of 5 stars',\n",
       "   'title': '72 hours 👍',\n",
       "   'date': 'Reviewed in the United States on October 5, 2022',\n",
       "   'text': 'Good quality smell good !! 72h 👌'},\n",
       "  {'stars': '5.0 out of 5 stars',\n",
       "   'title': 'Every other deodorant gives me a terrible rash',\n",
       "   'date': 'Reviewed in the United States on July 13, 2022',\n",
       "   'text': 'I have tried so many deodorants that smell great and feel great, until the next day… Even other degree products, I bought almost this exact same one but it was 48hr. Somehow still got a terrible rash. This formula must omit one ingredient that my skin does not like. I’ve learned my lesson trying to pick another deodorant when my store doesn’t have this one. These packs are a great value and essential for me at this point.'},\n",
       "  {'stars': '5.0 out of 5 stars',\n",
       "   'title': 'This is some good shituff',\n",
       "   'date': 'Reviewed in the United States on September 24, 2022',\n",
       "   'text': 'Will buy again smells great lasts long very nice'}],\n",
       " 'price': '',\n",
       " 'formats': {},\n",
       " 'template': 'beauty',\n",
       " 'image': 'https://m.media-amazon.com/images/W/WEBP_402378-T1/images/I/51+tUdTWg0L._SY300_SX300_.jpg',\n",
       " 'doc_id': 1661907,\n",
       " 'docid': 1661907,\n",
       " 'text': \"Product Description Degree is upgrading to our best formula yet. Our new and improved formulation gives you 72 hours of nonstop sweat and odor protection. You will still find all the same fragrances you know and love, but now with our new and improved long lasting protection! For a limited time, you may still receive our old 48-hour formulation while all our new 72-hour products make their way to a store near you. Freshen up, power up and move with confidence with Degree Men Adventure Antiperspirant Deodorant. Supercharged with 72-hour odor protection, this antiperspirant deodorant for men works as hard as you do and provides superior motion-activated protection from sweat and odor. However you move, this antiperspirant deodorant delivers unstoppable freshness for that shower-clean feeling all day long. With a rugged fragrance that blends clean citrus, energizing fresh pepper and long-lasting notes of woods and musk and non-stop odor and sweat protection, this Degree Men antiperspirant deodorant for men won’t let you down – so you can stay fresh, for all the ways you move. Product Description Degree is upgrading to our best formula yet. Our new and improved formulation gives you 72 hours of nonstop sweat and odor protection. You will still find all the same fragrances you know and love, but now with our new and improved long lasting protection! For a limited time, you may still receive our old 48-hour formulation while all our new 72-hour products make their way to a store near you. Freshen up, power up and move with confidence with Degree Men Adventure Antiperspirant Deodorant. Supercharged with 72-hour odor protection, this antiperspirant deodorant for men works as hard as you do and provides superior motion-activated protection from sweat and odor. However you move, this antiperspirant deodorant delivers unstoppable freshness for that shower-clean feeling all day long. With a rugged fragrance that blends clean citrus, energizing fresh pepper and long-lasting notes of woods and musk and non-stop odor and sweat protection, this Degree Men antiperspirant deodorant for men won’t let you down – so you can stay fresh, for all the ways you move.From the manufacturer Degree Men Adventure Antiperspirant Deodorant has a rugged fragrance that blends clean citrus, energizing fresh pepper and long-lasting notes of wood and musk. Its powerful MotionSense technology releases more fragrance as you move, so that you're ready for the most challenging adventure. 72-HOUR NONSTOP SWEAT PROTECTION This antiperspirant stick delivers unstoppable sweat and odor protection that helps keep you moving with confidence. MOTIONSENSE TECHNOLOGY Degree's breakthrough MotionSense technology reacts directly to movement to keep you feeling fresh and protected. UNSTOPPABLE CONFIDENCE Degree doesn't stop working, no matter how much you move. MOVING TOGETHER TOWARD REUSE At Degree, we're committed to creating the most reused and inclusive products possible. As well as increasing our use of reusable materials, we’re making it easier for you to recycle our antiperspirant and dry spray packaging. Read more Degree Men UltraClear DeodorantStick 72 hour Sweat and odor Black+White, 2.7 oz Degree Men Advanced Cool Rush Antiperspirant Deodorant Dry Spray, 3.8 oz Degree Men Extreme Blast Antiperspirant Deodorant Stick, 2.7 oz Main Benefit This antiperspirant for men protects against white marks and yellow stains. Active lives need Degree Men UltraClear Black + White Antiperspirant Deodorant, formulated to help you move with freedom, and feel fresh and confident. Get the crisp, arctic freshness of our fan-favorite Cool Rush deodorant in a convenient dry spray featuring MotionSense technology that works with your body. Degree Men Extreme Blast Antiperspirant Deodorant provides 48-hour sweat and odor protection that won't let you down. \"}"
      ]
     },
     "execution_count": 89,
     "metadata": {},
     "output_type": "execute_result"
    }
   ],
   "source": [
    "collection[doc_id-1]"
   ]
  },
  {
   "cell_type": "markdown",
   "id": "6233cca0",
   "metadata": {},
   "source": [
    "# Generate a complete dump of all dataset withouth any language specific filtering"
   ]
  },
  {
   "cell_type": "code",
   "execution_count": 90,
   "id": "c7b99710",
   "metadata": {},
   "outputs": [],
   "source": [
    "with open('full-collection.jsonl','w') as w:\n",
    "    for i in range(0,len(collection)):\n",
    "        doc_id = asin2trecid[collection[i]['asin']]\n",
    "        collection[i]['doc_id'] = doc_id\n",
    "        w.write(\"{}\\n\".format(json.dumps(j)))"
   ]
  },
  {
   "cell_type": "markdown",
   "id": "f309ee88",
   "metadata": {},
   "source": [
    "## Generate a TREC collection style "
   ]
  },
  {
   "cell_type": "code",
   "execution_count": 91,
   "id": "62a24ff3",
   "metadata": {},
   "outputs": [],
   "source": [
    "#doc_id\\ttitle\\tdescription\n",
    "with open('collection.trec', 'w') as w:\n",
    "    for i in range(0,len(collection)):\n",
    "        if collection[i]['locale'] == 'us':\n",
    "            w.write(\"{}\\t{}\\t{}\\n\".format(collection[i]['doc_id'],collection[i]['title'],collection[i]['description']))"
   ]
  },
  {
   "cell_type": "markdown",
   "id": "bada9b7e",
   "metadata": {},
   "source": [
    "## Generate a JSON collection style "
   ]
  },
  {
   "cell_type": "code",
   "execution_count": 93,
   "id": "85deb526",
   "metadata": {},
   "outputs": [],
   "source": [
    "#json \n",
    "with open('corpus.jsonl', 'w') as w:\n",
    "    for i in range(0,len(collection)):\n",
    "        if collection[i]['locale'] == 'us':\n",
    "            w.write(\"{}\\n\".format(json.dumps(collection[i])))"
   ]
  },
  {
   "cell_type": "markdown",
   "id": "58a1d657",
   "metadata": {},
   "source": [
    "## Pyserini Compatable"
   ]
  },
  {
   "cell_type": "markdown",
   "id": "d5c2ef3f",
   "metadata": {},
   "source": [
    "Next we go ahead and make a collection in the trec format. "
   ]
  },
  {
   "cell_type": "code",
   "execution_count": 94,
   "id": "80162d5f",
   "metadata": {},
   "outputs": [
    {
     "ename": "SyntaxError",
     "evalue": "invalid syntax (889133158.py, line 6)",
     "output_type": "error",
     "traceback": [
      "\u001b[0;36m  Input \u001b[0;32mIn [94]\u001b[0;36m\u001b[0m\n\u001b[0;31m    j['contents'] = json.dumps{'title':collection[i]['title'],'text':collection[i]['text']}\u001b[0m\n\u001b[0m                              ^\u001b[0m\n\u001b[0;31mSyntaxError\u001b[0m\u001b[0;31m:\u001b[0m invalid syntax\n"
     ]
    }
   ],
   "source": [
    "# pyserini with just title and description\n",
    "with open('pyserini-collection.jsonl') as w: \n",
    "    for i in range(0,len(collection)):\n",
    "        if collection[i]['locale'] == 'us':\n",
    "            j['id'] = collection[i]['doc_id']\n",
    "            j['contents'] = json.dumps{'title':collection[i]['title'],'text':collection[i]['text']}\n",
    "            w.write(\"{}\\n\".format(json.dumps(collection[i]))"
   ]
  },
  {
   "cell_type": "code",
   "execution_count": null,
   "id": "efa549ee",
   "metadata": {},
   "outputs": [],
   "source": [
    "! mkdir indexes"
   ]
  },
  {
   "cell_type": "code",
   "execution_count": null,
   "id": "451151c1",
   "metadata": {},
   "outputs": [],
   "source": [
    "! ls"
   ]
  },
  {
   "cell_type": "code",
   "execution_count": null,
   "id": "c8a5226c",
   "metadata": {},
   "outputs": [],
   "source": [
    "python -m pyserini.index.lucene \\\n",
    "  --collection JsonCollection \\\n",
    "  --input tests/resources/sample_collection_jsonl \\\n",
    "  --index indexes/sample_collection_jsonl \\\n",
    "  --generator DefaultLuceneDocumentGenerator \\\n",
    "  --threads 1 \\\n",
    "  --storePositions --storeDocvectors --storeRaw"
   ]
  },
  {
   "cell_type": "code",
   "execution_count": null,
   "id": "2f32b17e",
   "metadata": {},
   "outputs": [],
   "source": [
    "from pyserini.search.lucene import LuceneSearcher\n",
    "\n",
    "searcher = LuceneSearcher('indexes/sample_collection_jsonl')\n",
    "hits = searcher.search('document')\n",
    "\n",
    "for i in range(len(hits)):\n",
    "    print(f'{i+1:2} {hits[i].docid:4} {hits[i].score:.5f}')"
   ]
  },
  {
   "cell_type": "code",
   "execution_count": null,
   "id": "f2307ae9",
   "metadata": {},
   "outputs": [],
   "source": [
    "# pyserini full\n",
    "with open('pyserini-collection-full.jsonl') as w: \n",
    "    for i in range(0,len(collection)):\n",
    "        if collection[i]['locale'] == 'us':\n",
    "            j['id'] = collection[i]['doc_id']\n",
    "            j['contents'] = json.dumps{collection[i]}\n",
    "            w.write(\"{}\\n\".format(json.dumps(collection[i]))"
   ]
  },
  {
   "cell_type": "code",
   "execution_count": null,
   "id": "8e2abc35",
   "metadata": {},
   "outputs": [],
   "source": [
    "python -m pyserini.index.lucene \\\n",
    "  --collection JsonCollection \\\n",
    "  --input tests/resources/sample_collection_jsonl \\\n",
    "  --index indexes/sample_collection_jsonl \\\n",
    "  --generator DefaultLuceneDocumentGenerator \\\n",
    "  --threads 1 \\\n",
    "  --storePositions --storeDocvectors --storeRaw"
   ]
  },
  {
   "cell_type": "code",
   "execution_count": null,
   "id": "92caf3b4",
   "metadata": {},
   "outputs": [],
   "source": [
    "Train\tmsmarco-doctrain-queries.tsv\t15 MB\t367,013\ttsv: qid, query"
   ]
  },
  {
   "cell_type": "code",
   "execution_count": null,
   "id": "300bc1d5",
   "metadata": {},
   "outputs": [],
   "source": [
    "TREC submission: qid, “Q0”, docid, rank, score, runstring"
   ]
  }
 ],
 "metadata": {
  "kernelspec": {
   "display_name": "Python 3 (ipykernel)",
   "language": "python",
   "name": "python3"
  },
  "language_info": {
   "codemirror_mode": {
    "name": "ipython",
    "version": 3
   },
   "file_extension": ".py",
   "mimetype": "text/x-python",
   "name": "python",
   "nbconvert_exporter": "python",
   "pygments_lexer": "ipython3",
   "version": "3.9.12"
  }
 },
 "nbformat": 4,
 "nbformat_minor": 5
}
